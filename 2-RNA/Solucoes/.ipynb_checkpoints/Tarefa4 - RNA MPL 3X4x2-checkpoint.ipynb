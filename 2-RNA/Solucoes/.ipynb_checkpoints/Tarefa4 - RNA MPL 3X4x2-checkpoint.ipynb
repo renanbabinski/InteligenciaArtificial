{
 "cells": [
  {
   "cell_type": "markdown",
   "metadata": {},
   "source": [
    "#### Importando a biblioteca"
   ]
  },
  {
   "cell_type": "code",
   "execution_count": 1,
   "metadata": {},
   "outputs": [],
   "source": [
    "import numpy as np"
   ]
  },
  {
   "cell_type": "markdown",
   "metadata": {},
   "source": [
    "#### Função do cáculo da sigmóide"
   ]
  },
  {
   "cell_type": "code",
   "execution_count": 2,
   "metadata": {},
   "outputs": [],
   "source": [
    "def sigmoid(x):\n",
    "    return 1/(1+np.exp(-x))\n"
   ]
  },
  {
   "cell_type": "markdown",
   "metadata": {},
   "source": [
    "#### Arquitetura da MPL"
   ]
  },
  {
   "cell_type": "code",
   "execution_count": 3,
   "metadata": {},
   "outputs": [],
   "source": [
    "N_input = 3     #Numero de neuronios na camada de entrada\n",
    "N_hidden = 4    #Numero de neuronios na camada oculta\n",
    "N_output = 2    #Numero de neuronios na camada de saida"
   ]
  },
  {
   "cell_type": "markdown",
   "metadata": {},
   "source": [
    "#### Vetor dos valores de entrada (aleatória)"
   ]
  },
  {
   "cell_type": "code",
   "execution_count": 4,
   "metadata": {},
   "outputs": [],
   "source": [
    "X = np.array([1, 2, 3])"
   ]
  },
  {
   "cell_type": "markdown",
   "metadata": {},
   "source": [
    "#### Pesos da Camada Oculta"
   ]
  },
  {
   "cell_type": "code",
   "execution_count": 5,
   "metadata": {},
   "outputs": [],
   "source": [
    "weights_in_hidden = np.array([[-0.08,  0.08, -0.03, 0.03],\n",
    "                              [ 0.05,  0.10,  0.07, 0.02],\n",
    "                              [-0.07,  0.04, -0.01, 0.01]])\n",
    "\n",
    "#Cada neuronio da camada de entrada está ligado\n",
    "#com todos os neuronios da camada oculta, totalizando 12 conexões, e consequentemente 12 pesos, como na matriz 3x4 acima onde,\n",
    "#cada coluna representa as 3 conexões dos neuronios de entrada com o neuronio oculto (n_hidden).\n",
    "#O indice é dado por: i[n_in][n_hidden] sendo:\n",
    "#i = indice\n",
    "#n_in = neuronio de entrada\n",
    "#n_hidden = neuronio da camada oculta"
   ]
  },
  {
   "cell_type": "markdown",
   "metadata": {},
   "source": [
    "#### Pesos da Camada de Saída"
   ]
  },
  {
   "cell_type": "code",
   "execution_count": 6,
   "metadata": {},
   "outputs": [],
   "source": [
    "weights_hidden_out = np.array([[-0.18,  0.11],\n",
    "                               [-0.09,  0.05],\n",
    "                               [-0.04,  0.05],\n",
    "                               [-0.02,  0.07]])\n",
    "\n",
    "#Cada neuronio da camada oculta está ligado\n",
    "#com todos os neuronios da camada de saida, totalizando 8 conexões, e consequentemente 8 pesos, como na matriz 4x2 acima onde,\n",
    "#cada coluna representa as 4 conexões dos neuronios ocultos com o neuronio de saida(n_output).\n",
    "#O indice é dado por: i[n_hidden][n_output] sendo:\n",
    "#i = indice\n",
    "#n_hidden = neuronio da camada oculta\n",
    "#n_output = neuronio de saida"
   ]
  },
  {
   "cell_type": "markdown",
   "metadata": {},
   "source": [
    "### Passagem *forward* pela rede\n",
    "#### Camada oculta"
   ]
  },
  {
   "cell_type": "code",
   "execution_count": 7,
   "metadata": {},
   "outputs": [],
   "source": [
    "#Combinação linear(Produto escalar) de entradas e pesos sinápticos (Camada de entrada -> Camada Oculta)\n",
    "hidden_layer_in = np.dot(X, weights_in_hidden)\n",
    "\n",
    "#Aplicado a função de ativação na camada oculta\n",
    "hidden_layer_out = sigmoid(hidden_layer_in)"
   ]
  },
  {
   "cell_type": "markdown",
   "metadata": {},
   "source": [
    "#### Camada de Saída"
   ]
  },
  {
   "cell_type": "code",
   "execution_count": 8,
   "metadata": {},
   "outputs": [],
   "source": [
    "#Combinação linear(Produto escalar) de entradas e pesos sinápticos (Camada Oculta -> Camada de Saida)\n",
    "output_layer_in = np.dot(hidden_layer_out, weights_hidden_out)\n",
    "\n",
    "#Aplicado a função de ativação na camada de saida\n",
    "output_layer_out = sigmoid(output_layer_in)"
   ]
  },
  {
   "cell_type": "code",
   "execution_count": 9,
   "metadata": {},
   "outputs": [
    {
     "name": "stdout",
     "output_type": "stream",
     "text": [
      "As saídas da rede são [0.458432   0.53555814]\n"
     ]
    }
   ],
   "source": [
    "print('As saídas da rede são',output_layer_out)"
   ]
  },
  {
   "cell_type": "code",
   "execution_count": null,
   "metadata": {},
   "outputs": [],
   "source": []
  }
 ],
 "metadata": {
  "kernelspec": {
   "display_name": "Python 3",
   "language": "python",
   "name": "python3"
  },
  "language_info": {
   "codemirror_mode": {
    "name": "ipython",
    "version": 3
   },
   "file_extension": ".py",
   "mimetype": "text/x-python",
   "name": "python",
   "nbconvert_exporter": "python",
   "pygments_lexer": "ipython3",
   "version": "3.8.5"
  }
 },
 "nbformat": 4,
 "nbformat_minor": 2
}
