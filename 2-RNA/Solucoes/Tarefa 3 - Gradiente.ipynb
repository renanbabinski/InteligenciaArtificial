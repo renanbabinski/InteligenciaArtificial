{
 "cells": [
  {
   "cell_type": "markdown",
   "metadata": {},
   "source": [
    "## Gradiente Descendente ##"
   ]
  },
  {
   "cell_type": "code",
   "execution_count": 1,
   "metadata": {},
   "outputs": [],
   "source": [
    "import numpy as np"
   ]
  },
  {
   "cell_type": "markdown",
   "metadata": {},
   "source": [
    "**Calculo da Sigmoide**"
   ]
  },
  {
   "cell_type": "code",
   "execution_count": 2,
   "metadata": {},
   "outputs": [],
   "source": [
    "def sigmoid(x):\n",
    "    return 1/(1+np.exp(-x))"
   ]
  },
  {
   "cell_type": "markdown",
   "metadata": {},
   "source": [
    "**Derivada da função sigmóide**"
   ]
  },
  {
   "cell_type": "code",
   "execution_count": 3,
   "metadata": {},
   "outputs": [],
   "source": [
    "def sigmoid_prime(x):\n",
    "        return sigmoid(x) * (1 - sigmoid(x))"
   ]
  },
  {
   "cell_type": "markdown",
   "metadata": {},
   "source": [
    "**Definições iniciais**"
   ]
  },
  {
   "cell_type": "code",
   "execution_count": 4,
   "metadata": {},
   "outputs": [],
   "source": [
    "learnrate = 0.5                     #Taxa de aprendizado\n",
    "x = np.array([1, 2, 3, 4])          #Vetor de entrada da Rede\n",
    "y = np.array(0.5)                   #Valor de Saida esperado\n",
    "b = 0.5                             #Bias, valor de ativação do neuronio"
   ]
  },
  {
   "cell_type": "markdown",
   "metadata": {},
   "source": [
    "**Pesos Iniciais Aleatórios**"
   ]
  },
  {
   "cell_type": "code",
   "execution_count": 5,
   "metadata": {},
   "outputs": [],
   "source": [
    "w = np.random.randn(4)/10"
   ]
  },
  {
   "cell_type": "markdown",
   "metadata": {},
   "source": [
    "### Calcule um degrau de descida gradiente para cada peso\n",
    "#### Critério de parada\n",
    "* **Epochs**: Número de Épocas\n",
    "* **MinError**: Erro mínimo estipulado\n"
   ]
  },
  {
   "cell_type": "code",
   "execution_count": 6,
   "metadata": {},
   "outputs": [],
   "source": [
    "#Número de Épocas\n",
    "epochs=100\n",
    "\n",
    "#Inicilizando del_w\n",
    "del_w=0\n",
    "\n",
    "for e in range(epochs):\n",
    "    # TODO: Calcule a combinação linear de entradas e pesos sinápticos\n",
    "    h = np.dot(x, w)\n",
    "\n",
    "    # TODO: Calcule a saída da Rede Neural\n",
    "    output = sigmoid(h)\n",
    "\n",
    "    # TODO: Calcule o erro da Rede Neural\n",
    "    error = y - output\n",
    "\n",
    "    # TODO: Calcule o termo de erro\n",
    "    error_term = error * sigmoid_prime(h)\n",
    "\n",
    "    # TODO: Calcule a variação do peso\n",
    "    del_w = learnrate * error_term * x\n",
    "\n",
    "    # TODO: Atualização do Peso\n",
    "    w = w + del_w\n",
    "    \n",
    "#    print(w)\n",
    "#    print(output)\n",
    "#   print(error)\n"
   ]
  },
  {
   "cell_type": "code",
   "execution_count": 7,
   "metadata": {},
   "outputs": [
    {
     "name": "stdout",
     "output_type": "stream",
     "text": [
      "Saída da Rede Neural:\n",
      "0.5\n",
      "Erro: 0.0\n"
     ]
    }
   ],
   "source": [
    "print('Saída da Rede Neural:')\n",
    "print(output)\n",
    "print('Erro:',error)\n"
   ]
  }
 ],
 "metadata": {
  "kernelspec": {
   "display_name": "Python 3",
   "language": "python",
   "name": "python3"
  },
  "language_info": {
   "codemirror_mode": {
    "name": "ipython",
    "version": 3
   },
   "file_extension": ".py",
   "mimetype": "text/x-python",
   "name": "python",
   "nbconvert_exporter": "python",
   "pygments_lexer": "ipython3",
   "version": "3.8.5"
  }
 },
 "nbformat": 4,
 "nbformat_minor": 2
}
