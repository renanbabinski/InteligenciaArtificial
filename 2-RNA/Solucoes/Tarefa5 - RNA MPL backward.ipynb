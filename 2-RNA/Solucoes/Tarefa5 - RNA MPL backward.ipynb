{
 "cells": [
  {
   "cell_type": "markdown",
   "metadata": {},
   "source": [
    "## Configuração da MPL"
   ]
  },
  {
   "cell_type": "code",
   "execution_count": 1,
   "metadata": {},
   "outputs": [],
   "source": [
    "#Importando a biblioteca\n",
    "import numpy as np\n",
    "\n",
    "#Função do cáculo da sigmóide\n",
    "def sigmoid(x):\n",
    "    return 1/(1+np.exp(-x))\n",
    "\n",
    "#Arquitetura da MPL\n",
    "N_input = 3     #Numero de neuronios na camada de entrada\n",
    "N_hidden = 4    #Numero de neuronios na camada oculta\n",
    "N_output = 2    #Numero de neuronios na camada de saida\n",
    "\n",
    "#Vetor dos valores de entrada\n",
    "x = np.array([0.5, 0.1, -0.2])\n",
    "target = np.array([0.3, 0.8])   # Saida Esperada\n",
    "learnrate = 0.5                 # Taxa de aprendizado\n",
    "\n",
    "#Pesos da Camada Oculta\n",
    "\n",
    "weights_input_hidden = np.array([[-0.08,  0.08, -0.03, 0.03],\n",
    "                                 [ 0.05,  0.10,  0.07, 0.02],\n",
    "                                 [-0.07,  0.04, -0.01, 0.01]])\n",
    "\n",
    "#Cada neuronio da camada de entrada está ligado\n",
    "#com todos os neuronios da camada oculta, totalizando 12 conexões, e consequentemente 12 pesos, como na matriz 3x4 acima onde,\n",
    "#cada coluna representa as 3 conexões dos neuronios de entrada com o neuronio oculto (n_hidden).\n",
    "#O indice é dado por: i[n_in][n_hidden] sendo:\n",
    "#i = indice\n",
    "#n_in = neuronio de entrada\n",
    "#n_hidden = neuronio da camada oculta\n",
    "\n",
    "\n",
    "\n",
    "#Pesos da Camada de Saída\n",
    "weights_hidden_output = np.array([[-0.18,  0.11],\n",
    "                                  [-0.09,  0.05],\n",
    "                                  [-0.04,  0.05],\n",
    "                                  [-0.02,  0.07]])\n",
    "\n",
    "#Cada neuronio da camada oculta está ligado\n",
    "#com todos os neuronios da camada de saida, totalizando 8 conexões, e consequentemente 8 pesos, como na matriz 4x2 acima onde,\n",
    "#cada coluna representa as 4 conexões dos neuronios ocultos com o neuronio de saida(n_output).\n",
    "#O indice é dado por: i[n_hidden][n_output] sendo:\n",
    "#i = indice\n",
    "#n_hidden = neuronio da camada oculta\n",
    "#n_output = neuronio de saida\n",
    "\n"
   ]
  },
  {
   "cell_type": "markdown",
   "metadata": {},
   "source": [
    "### Forward Pass"
   ]
  },
  {
   "cell_type": "code",
   "execution_count": 2,
   "metadata": {
    "scrolled": true
   },
   "outputs": [
    {
     "name": "stdout",
     "output_type": "stream",
     "text": [
      "As saídas da rede são [0.45883963 0.53497652]\n"
     ]
    }
   ],
   "source": [
    "#Camada oculta\n",
    "\n",
    "#Combinação linear(Produto escalar) de entradas e pesos sinápticos (Camada de entrada -> Camada Oculta)\n",
    "hidden_layer_input = np.dot(x, weights_input_hidden)\n",
    "#Aplicado a função de ativação na camada oculta\n",
    "hidden_layer_output = sigmoid(hidden_layer_input)\n",
    "\n",
    "#Camada de Saída\n",
    "\n",
    "#Combinação linear(Produto escalar) de entradas e pesos sinápticos (Camada Oculta -> Camada de Saida)\n",
    "output_layer_in = np.dot(hidden_layer_output, weights_hidden_output)\n",
    "\n",
    "#Aplicado a função de ativação na camada de saida\n",
    "output = sigmoid(output_layer_in)\n",
    "\n",
    "print('As saídas da rede são',output)\n"
   ]
  },
  {
   "cell_type": "markdown",
   "metadata": {},
   "source": [
    "## Backward Pass"
   ]
  },
  {
   "cell_type": "code",
   "execution_count": 3,
   "metadata": {
    "scrolled": true
   },
   "outputs": [
    {
     "name": "stdout",
     "output_type": "stream",
     "text": [
      "[-0.03944081  0.06593165]\n",
      "delta_w_h_o:  [[-0.00975667  0.01630985]\n",
      " [-0.01006724  0.016829  ]\n",
      " [-0.00983062  0.01643346]\n",
      " [-0.00993415  0.01660653]]\n",
      "delta_w_i_h:  [[ 8.96890297e-04  4.27702305e-04  3.04635689e-04  3.37732992e-04]\n",
      " [ 1.79378059e-04  8.55404611e-05  6.09271378e-05  6.75465983e-05]\n",
      " [-3.58756119e-04 -1.71080922e-04 -1.21854276e-04 -1.35093197e-04]]\n"
     ]
    }
   ],
   "source": [
    "\n",
    "#Cálculo do Erro\n",
    "error = target - output\n",
    "\n",
    "#Calcule o termo de erro de saída (Gradiente da Camada de Saída)\n",
    "output_error_term = error * output * (1 - output)\n",
    "\n",
    "#Calcule a contribuição da camada oculta para o erro]\n",
    "#hidden_error é dado pelo Produto Escalar dos pesos de saida da camada oculta e a saida final da rede\n",
    "hidden_error = np.dot(weights_hidden_output,output_error_term)\n",
    "\n",
    "\n",
    "#Calcule o termo de erro da camada oculta (Gradiente da Camada Oculta)\n",
    "#hidden_error_term é dado pelo produto escalar calculado anteriormente multiplicado pela derivada da função de ativação\n",
    "hidden_error_term = hidden_error * hidden_layer_output * (1 - hidden_layer_output)\n",
    "\n",
    "\n",
    "#Calcule a variação do peso da camada de saída\n",
    "#O delta dos pesos de saida da camada oculta é proporcional a influencia dos pesos\n",
    "delta_w_h_o = learnrate * output_error_term*hidden_layer_output[:, None]\n",
    "print('delta_w_h_o: ',delta_w_h_o)\n",
    "\n",
    "#Calcule a variação do peso da camada oculta\n",
    "#O delta dos pesos de entrada da camada oculta é proporcional a influencia dos pesos\n",
    "delta_w_i_h = learnrate * hidden_error_term * x[:, None]\n",
    "print('delta_w_i_h: ',delta_w_i_h)\n",
    "\n"
   ]
  },
  {
   "cell_type": "markdown",
   "metadata": {},
   "source": [
    "### Atualização dos Pesos"
   ]
  },
  {
   "cell_type": "code",
   "execution_count": 4,
   "metadata": {},
   "outputs": [
    {
     "name": "stdout",
     "output_type": "stream",
     "text": [
      "weights_input_hidden:  [[ 4.48445149e-04  2.13851153e-04  1.52317845e-04  1.68866496e-04]\n",
      " [ 8.96890297e-05  4.27702305e-05  3.04635689e-05  3.37732992e-05]\n",
      " [-1.79378059e-04 -8.55404611e-05 -6.09271378e-05 -6.75465983e-05]]\n",
      "weights_hidden_output:  [[-0.00487834  0.00815492]\n",
      " [-0.00503362  0.0084145 ]\n",
      " [-0.00491531  0.00821673]\n",
      " [-0.00496708  0.00830327]]\n"
     ]
    }
   ],
   "source": [
    "weights_input_hidden = learnrate * delta_w_i_h\n",
    "print('weights_input_hidden: ',weights_input_hidden)\n",
    "weights_hidden_output = learnrate * delta_w_h_o\n",
    "print('weights_hidden_output: ',weights_hidden_output)"
   ]
  },
  {
   "cell_type": "code",
   "execution_count": null,
   "metadata": {},
   "outputs": [],
   "source": []
  }
 ],
 "metadata": {
  "kernelspec": {
   "display_name": "Python 3",
   "language": "python",
   "name": "python3"
  },
  "language_info": {
   "codemirror_mode": {
    "name": "ipython",
    "version": 3
   },
   "file_extension": ".py",
   "mimetype": "text/x-python",
   "name": "python",
   "nbconvert_exporter": "python",
   "pygments_lexer": "ipython3",
   "version": "3.8.5"
  }
 },
 "nbformat": 4,
 "nbformat_minor": 2
}
