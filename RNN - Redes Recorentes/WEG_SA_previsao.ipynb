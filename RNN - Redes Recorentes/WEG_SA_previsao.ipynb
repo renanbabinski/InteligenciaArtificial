{
 "cells": [
  {
   "cell_type": "markdown",
   "metadata": {},
   "source": [
    "## Previsão de cotação da empresa WEG SA utilizando redes neurais recorentes RNNs\n",
    "\n",
    "\n",
    "WEG S.A é uma empresa multinacional brasileira com sede na cidade de Jaraguá do Sul, no estado de Santa Catarina.\n",
    "\n",
    "<br><img src=\"WEG.png\"><br>\n",
    "\n",
    "A empresa é uma das maiores fabricantes de equipamentos elétricos do mundo, atuando nas áreas de comando e proteção, variação de velocidade, automação de processos industriais, geração e distribuição de energia e tintas e vernizes industriais, entre outros produtos.\n",
    "\n",
    "Neste trabalho iremos implementar uma RNNs para realizar a predição diária das cotações da empresa.\n",
    "\n",
    "O dataset **\"WEGE3.SA_5_latest_years.csv\"** possui informações dispostas em colunas :\n",
    "\n",
    "* **Date**:  Data das operações na bolsa (diária)\n",
    "* **Close**:  Valor de Fechamento das ações (no dia)\n",
    "* **Open**:  Valor da Abertura das ações (no dia)\n",
    "* **High**:  Valor máximo das ações (no dia)\n",
    "* **Low**:  Valor mínimo das ações (no dia)\n",
    "* **Vol**:  Volume de contratos negociados (no dia)\n",
    "\n",
    "\n",
    "\n",
    "\n",
    "### Bibliotecas"
   ]
  },
  {
   "cell_type": "code",
   "execution_count": null,
   "metadata": {},
   "outputs": [],
   "source": [
    "import pandas as pd\n",
    "from keras.models import Sequential\n",
    "from keras.layers import Dense, Dropout, LSTM\n",
    "import plotly.graph_objects as go \n",
    "import numpy as np\n",
    "import matplotlib.pyplot as plt\n",
    "import seaborn as sns\n",
    "%matplotlib inline"
   ]
  },
  {
   "cell_type": "markdown",
   "metadata": {},
   "source": [
    "### Carregando os dados\n",
    "\n",
    "Vamos começar lendo o arquivo WEGE3.SA_5_latest_years.csv em um dataframe do pandas, mas antes vamos dar uma olhadinha no gráfico de variação do último mês da ação WEGE3."
   ]
  },
  {
   "cell_type": "code",
   "execution_count": null,
   "metadata": {},
   "outputs": [],
   "source": [
    "DataSet=pd.read_csv('WEGE3.SA_latest_30_days.csv')"
   ]
  },
  {
   "cell_type": "code",
   "execution_count": null,
   "metadata": {},
   "outputs": [],
   "source": [
    "fig = go.Figure(data=[go.Candlestick(x=DataSet['Date'],\n",
    "                open=DataSet['Open'], high=DataSet['High'],\n",
    "                low=DataSet['Low'], close=DataSet['Close'])\n",
    "                     ])\n",
    "\n",
    "fig.update_layout(xaxis_rangeslider_visible=False)  \n",
    "fig.show()\n",
    "\n"
   ]
  },
  {
   "cell_type": "markdown",
   "metadata": {},
   "source": [
    "### Agora vamos ler o arquivo do período desejável "
   ]
  },
  {
   "cell_type": "code",
   "execution_count": null,
   "metadata": {},
   "outputs": [],
   "source": [
    "DataSet=pd.read_csv('WEGE3.SA_5_latest_years.csv')\n",
    "DataSet=DataSet.dropna()\n",
    "DataSet.head()"
   ]
  },
  {
   "cell_type": "code",
   "execution_count": null,
   "metadata": {},
   "outputs": [],
   "source": [
    "DataSet.describe()"
   ]
  },
  {
   "cell_type": "markdown",
   "metadata": {},
   "source": [
    "### Inicialmente iremos criar uma RNN baseada apenas no Valor de Abertura"
   ]
  },
  {
   "cell_type": "code",
   "execution_count": null,
   "metadata": {},
   "outputs": [],
   "source": [
    "plt.scatter(DataSet['Date'],DataSet['Open'],)\n",
    "plt.show()\n",
    "\n",
    "base_treinamento = DataSet.iloc[:, 1:2].values\n",
    "\n",
    "#DataSet.drop(['Date','Close','High','Low', 'Volume'],axis=1,inplace=True)"
   ]
  },
  {
   "cell_type": "code",
   "execution_count": null,
   "metadata": {},
   "outputs": [],
   "source": [
    "base_treinamento"
   ]
  },
  {
   "cell_type": "markdown",
   "metadata": {},
   "source": [
    "### Normalizar os dados da ação"
   ]
  },
  {
   "cell_type": "code",
   "execution_count": null,
   "metadata": {},
   "outputs": [],
   "source": [
    "from sklearn.preprocessing import MinMaxScaler\n",
    "scaler=MinMaxScaler(feature_range=(0,1))\n",
    "DataScaled=scaler.fit_transform(base_treinamento)"
   ]
  },
  {
   "cell_type": "code",
   "execution_count": null,
   "metadata": {},
   "outputs": [],
   "source": [
    "plt.scatter(DataSet['Date'],DataScaled,)\n",
    "plt.show()\n",
    "print(DataScaled)"
   ]
  },
  {
   "cell_type": "markdown",
   "metadata": {},
   "source": [
    "### Definição dos previsores"
   ]
  },
  {
   "cell_type": "code",
   "execution_count": null,
   "metadata": {},
   "outputs": [],
   "source": [
    "previsores = []\n",
    "preco_real = []\n",
    "NRecursao = 90\n",
    "DataSetLen = len(DataScaled) #quantidade de dados no dataset\n",
    "print(DataSetLen)"
   ]
  },
  {
   "cell_type": "code",
   "execution_count": null,
   "metadata": {},
   "outputs": [],
   "source": [
    "\n",
    "for i in range(NRecursao, DataSetLen):\n",
    "    previsores.append(DataScaled[i-NRecursao:i,0])\n",
    "    preco_real.append(DataScaled[i,0])\n",
    "\n",
    "previsores, preco_real = np.array(previsores), np.array(preco_real)"
   ]
  },
  {
   "cell_type": "code",
   "execution_count": null,
   "metadata": {},
   "outputs": [],
   "source": [
    "previsores.shape"
   ]
  },
  {
   "cell_type": "markdown",
   "metadata": {},
   "source": [
    "### Tranformar para o formato do Tensor do Keras\n",
    "\n",
    "<br><img src=\"TensorKeras.png\"><br>"
   ]
  },
  {
   "cell_type": "code",
   "execution_count": null,
   "metadata": {},
   "outputs": [],
   "source": [
    "previsores = np.reshape(previsores, (previsores.shape[0], previsores.shape[1], 1))"
   ]
  },
  {
   "cell_type": "code",
   "execution_count": null,
   "metadata": {},
   "outputs": [],
   "source": [
    "previsores.shape"
   ]
  },
  {
   "cell_type": "markdown",
   "metadata": {},
   "source": [
    "### Estrutura da Rede Neural"
   ]
  },
  {
   "source": [
    "# Camada de entrada\n",
    "regressor = Sequential()\n",
    "regressor.add(LSTM(units = 100, return_sequences = True, input_shape = (previsores.shape[1], 1)))\n",
    "regressor.add(Dropout(0.3))\n",
    "\n",
    "# Cada Oculta 1\n",
    "regressor.add(LSTM(units = 50, return_sequences = True))\n",
    "regressor.add(Dropout(0.3))\n",
    "\n",
    "# Cada Oculta 2\n",
    "regressor.add(LSTM(units = 50, return_sequences = True))\n",
    "regressor.add(Dropout(0.3))\n",
    "\n",
    "# Cada Oculta 3\n",
    "regressor.add(LSTM(units = 50))\n",
    "regressor.add(Dropout(0.3))\n",
    "\n",
    "# Camada de Saída\n",
    "regressor.add(Dense(units = 1, activation = 'linear'))\n"
   ],
   "cell_type": "code",
   "metadata": {},
   "execution_count": null,
   "outputs": []
  },
  {
   "cell_type": "markdown",
   "metadata": {},
   "source": [
    "### Construindo a Rede"
   ]
  },
  {
   "cell_type": "code",
   "execution_count": null,
   "metadata": {},
   "outputs": [],
   "source": [
    "regressor.compile(optimizer = 'rmsprop', loss = 'mean_squared_error',\n",
    "                  metrics = ['mean_absolute_error'])\n",
    "regressor.fit(previsores, preco_real, epochs = 2000, batch_size = 32)"
   ]
  },
  {
   "cell_type": "markdown",
   "metadata": {},
   "source": [
    "### Conjunto de dados para o Teste"
   ]
  },
  {
   "cell_type": "code",
   "execution_count": null,
   "metadata": {},
   "outputs": [],
   "source": [
    "DataSet_teste=pd.read_csv('WEGE3.SA_latest_30_days.csv')\n",
    "\n",
    "preco_real_teste = DataSet_teste.iloc[:, 1:2].values\n",
    "\n",
    "base_completa = pd.concat((DataSet['Open'], DataSet_teste['Open']), axis = 0)\n",
    "entradas = base_completa[len(base_completa) - len(DataSet_teste) - NRecursao:].values\n",
    "\n",
    "entradas = entradas.reshape(-1, 1)\n",
    "entradas = scaler.transform(entradas)"
   ]
  },
  {
   "cell_type": "code",
   "execution_count": null,
   "metadata": {},
   "outputs": [],
   "source": [
    "DataSetTestLen = len(DataSet_teste)\n",
    "NPredictions = 90\n",
    "\n",
    "X_teste = []\n",
    "for i in range(NRecursao, DataSetTestLen+NRecursao):\n",
    "    X_teste.append(entradas[i-NRecursao:i, 0])\n",
    "    \n",
    "X_teste = np.array(X_teste)\n",
    "X_teste = np.reshape(X_teste, (X_teste.shape[0], X_teste.shape[1], 1))\n",
    "\n",
    "previsoes = regressor.predict(X_teste)\n",
    "previsoes = scaler.inverse_transform(previsoes)\n"
   ]
  },
  {
   "cell_type": "code",
   "execution_count": null,
   "metadata": {},
   "outputs": [],
   "source": [
    "RNN=[]\n",
    "predictions_teste=X_teste[0].T\n",
    "predictions_teste=np.reshape(predictions_teste, (predictions_teste.shape[0], predictions_teste.shape[1], 1))\n",
    "\n",
    "predictions_teste[0][NRecursao-1][0]=regressor.predict(predictions_teste)[0][0]\n",
    "RNN.append(regressor.predict(predictions_teste)[0])\n",
    "\n",
    "for i in range(NPredictions-1):\n",
    "    predictions_teste=np.roll(predictions_teste,-1)\n",
    "    predictions_teste[0][NRecursao-1][0]=regressor.predict(predictions_teste)[0][0]\n",
    "    RNN.append(regressor.predict(predictions_teste)[0])\n",
    "RNN = scaler.inverse_transform(RNN)\n",
    "\n",
    "print(RNN.mean())\n",
    "print(previsoes.mean())\n",
    "print(preco_real_teste.mean())"
   ]
  },
  {
   "cell_type": "code",
   "execution_count": null,
   "metadata": {},
   "outputs": [],
   "source": [
    "plt.plot(preco_real_teste, color = 'red', label = 'Preço real')\n",
    "plt.plot(previsoes, color = 'blue', label = 'Previsões')\n",
    "#plt.plot(RNN, color = 'green', label = 'RNN')\n",
    "\n",
    "plt.title('WEGE3')\n",
    "plt.xlabel('Tempo')\n",
    "plt.ylabel('Valor')\n",
    "plt.legend()\n",
    "plt.show()"
   ]
  }
 ],
 "metadata": {
  "kernelspec": {
   "name": "python395jvsc74a57bd0cd4a0de22f915bec2726fa097c86af3e828a6c448cffc0f50bf692f6d991396a",
   "display_name": "Python 3.9.5 64-bit"
  },
  "language_info": {
   "codemirror_mode": {
    "name": "ipython",
    "version": 3
   },
   "file_extension": ".py",
   "mimetype": "text/x-python",
   "name": "python",
   "nbconvert_exporter": "python",
   "pygments_lexer": "ipython3",
   "version": "3.9.5"
  },
  "metadata": {
   "interpreter": {
    "hash": "cd4a0de22f915bec2726fa097c86af3e828a6c448cffc0f50bf692f6d991396a"
   }
  }
 },
 "nbformat": 4,
 "nbformat_minor": 2
}